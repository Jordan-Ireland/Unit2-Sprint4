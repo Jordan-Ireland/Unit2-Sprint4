{
 "cells": [
  {
   "cell_type": "code",
   "execution_count": 3,
   "metadata": {},
   "outputs": [],
   "source": [
    "import json\n",
    "import requests\n",
    "from bs4 import BeautifulSoup\n",
    "import pandas as pd\n",
    "import numpy as np\n",
    "import matplotlib.pyplot as plt\n",
    "from sklearn.linear_model import LinearRegression\n",
    "from scipy.stats import norm\n",
    "\n",
    "df = pd.read_csv('user_info.csv')\n",
    "\n",
    "from selenium import webdriver\n",
    "options = webdriver.ChromeOptions()\n",
    "options.add_argument('--ignore-certificate-errors')\n",
    "options.add_argument('--incognito')\n",
    "options.add_argument('--headless')\n",
    "driver = webdriver.Chrome(\"../assets/chromedriver\", options=options)"
   ]
  },
  {
   "cell_type": "code",
   "execution_count": 4,
   "metadata": {},
   "outputs": [],
   "source": [
    "class Player:\n",
    "    def __init__(self, name, level, rating, prestige, games_won, qps, medals, hero):\n",
    "        self.name = name\n",
    "        self.level = level\n",
    "        self.rating = rating\n",
    "        self.prestige = prestige\n",
    "        self.qps = qps\n",
    "        self.medals = medals\n",
    "        self.hero = hero\n",
    "        self.kd_ratio = [i/(1+sum([qps.elims,qps.deaths])) for i in [qps.elims,qps.deaths]]\n",
    "        self.games_won = games_won\n",
    "\n",
    "class Stats:\n",
    "    def __init__(self, elims=0, dmg_done=0, deaths=0, solo_kills=0):\n",
    "        self.elims = elims\n",
    "        self.dmg_done = dmg_done\n",
    "        self.deaths = deaths\n",
    "        self.solo_kills = solo_kills\n",
    "        \n",
    "class Medals:\n",
    "    def __init__(self, bronze=0, silver=0, gold=0):\n",
    "        self.bronze = bronze\n",
    "        self.silver = silver\n",
    "        self.gold = gold\n",
    "        \n",
    "hero_list = ['ana','ashe','baptiste','bastion','brigitte','dVa','doomfist',\n",
    "             'genji','hanzo','junkrat','lucio','mccree','mei','mercy','moira',\n",
    "             'orisa','pharah','reaper','reinhardt','roadhog','soldier76','sombra',\n",
    "             'symmetra','torbjorn','tracer','widowmaker','winston','wreckingBall',\n",
    "             'zarya','zenyatta','sigma']\n",
    "\n",
    "def create_player(js):\n",
    "    heroes = {}\n",
    "    if 'quickPlayStats' not in js:\n",
    "        for hero in hero_list:\n",
    "            heroes.update({hero: Stats(0,0,0,0)})\n",
    "        return Player(js['name'], js['level'],js['rating'],js['prestige'], 0, Stats(), Medals(), heroes)\n",
    "    if 'careerStats' not in js['quickPlayStats']:\n",
    "        for hero in hero_list:\n",
    "            heroes.update({hero: Stats(0,0,0,0)})\n",
    "        return Player(js['name'], js['level'],js['rating'],js['prestige'], 0, Stats(), Medals(), heroes)\n",
    "    if js.get('quickPlayStats',{}).get('careerStats',{}) == None or 'allHeroes' not in js.get('quickPlayStats',{}).get('careerStats',{}):\n",
    "        for hero in hero_list:\n",
    "            heroes.update({hero: Stats(0,0,0,0)})\n",
    "        return Player(js['name'], js['level'],js['rating'],js['prestige'], 0, Stats(), Medals(), heroes)\n",
    "    \n",
    "    elims = 0\n",
    "    damageDone = 0\n",
    "    deaths = 0\n",
    "    soloKills = 0\n",
    "\n",
    "    if js['quickPlayStats']['careerStats']['allHeroes']['combat'] != None:\n",
    "\n",
    "        if 'eliminations' in js['quickPlayStats']['careerStats']['allHeroes']['combat']:\n",
    "            elims = js['quickPlayStats']['careerStats']['allHeroes']['combat']['eliminations']\n",
    "\n",
    "        if 'damageDone' in js['quickPlayStats']['careerStats']['allHeroes']['combat']:\n",
    "            damageDone = js['quickPlayStats']['careerStats']['allHeroes']['combat']['damageDone']\n",
    "\n",
    "        if 'deaths' in js['quickPlayStats']['careerStats']['allHeroes']['combat']:\n",
    "            deaths = js['quickPlayStats']['careerStats']['allHeroes']['combat']['deaths']\n",
    "\n",
    "        if 'soloKills' in js['quickPlayStats']['careerStats']['allHeroes']['combat']:\n",
    "            soloKills = js['quickPlayStats']['careerStats']['allHeroes']['combat']['soloKills']\n",
    "    \n",
    "    qps = Stats(elims,damageDone,deaths,soloKills)\n",
    "\n",
    "    medals = Medals(js['quickPlayStats']['awards'].get('medalsBronze'),\n",
    "                      js['quickPlayStats']['awards'].get('medalsSilver'),\n",
    "                      js['quickPlayStats']['awards'].get('medalsGold'))\n",
    "    \n",
    "    for hero in hero_list:\n",
    "        print(hero)\n",
    "        if hero in js['quickPlayStats']['careerStats']:\n",
    "            elims = 0\n",
    "            damageDone = 0\n",
    "            deaths = 0\n",
    "            soloKills = 0\n",
    "            \n",
    "            if js['quickPlayStats']['careerStats'][hero]['combat'] != None:\n",
    "                \n",
    "                if 'eliminations' in js['quickPlayStats']['careerStats'][hero]['combat']:\n",
    "                    elims = js['quickPlayStats']['careerStats'][hero]['combat']['eliminations']\n",
    "\n",
    "                if 'damageDone' in js['quickPlayStats']['careerStats'][hero]['combat']:\n",
    "                    damageDone = js['quickPlayStats']['careerStats'][hero]['combat']['damageDone']\n",
    "\n",
    "                if 'deaths' in js['quickPlayStats']['careerStats'][hero]['combat']:\n",
    "                    deaths = js['quickPlayStats']['careerStats'][hero]['combat']['deaths']\n",
    "\n",
    "                if 'soloKills' in js['quickPlayStats']['careerStats'][hero]['combat']:\n",
    "                    soloKills = js['quickPlayStats']['careerStats'][hero]['combat']['soloKills']\n",
    "                \n",
    "            heroes.update({hero: Stats(elims,damageDone,deaths,soloKills)})\n",
    "        else:\n",
    "            heroes.update({hero: Stats(0,0,0,0)})\n",
    "    \n",
    "    return Player(js['name'], js['level'],js['rating'],js['prestige'], js['quickPlayStats']['games']['won'], qps, medals, heroes)\n",
    "\n",
    "def df_object(p):\n",
    "    item = [p.name,p.level,p.rating,p.prestige,p.games_won,p.qps.elims,p.qps.dmg_done,\n",
    "            p.qps.deaths,p.qps.solo_kills,p.medals.bronze,p.medals.silver,p.medals.gold]\n",
    "    \n",
    "    for hero in hero_list:\n",
    "        item.extend([p.hero[hero].elims,p.hero[hero].dmg_done,p.hero[hero].deaths,p.hero[hero].solo_kills])\n",
    "        \n",
    "    return item"
   ]
  },
  {
   "cell_type": "code",
   "execution_count": 5,
   "metadata": {},
   "outputs": [
    {
     "data": {
      "text/plain": [
       "1676"
      ]
     },
     "execution_count": 5,
     "metadata": {},
     "output_type": "execute_result"
    }
   ],
   "source": [
    "usernames = pd.read_csv('../assets/data/usernames_scraped_fixed.csv')\n",
    "usernames.head()\n",
    "len(usernames['users'])"
   ]
  },
  {
   "cell_type": "code",
   "execution_count": 13,
   "metadata": {},
   "outputs": [
    {
     "data": {
      "application/vnd.jupyter.widget-view+json": {
       "model_id": "183665cc417e4c7cb8a3ccb73be8ecf8",
       "version_major": 2,
       "version_minor": 0
      },
      "text/plain": [
       "IntProgress(value=1676, bar_style='info', description='1.0%', max=1676)"
      ]
     },
     "metadata": {},
     "output_type": "display_data"
    }
   ],
   "source": [
    "##dataframe setup\n",
    "columns = ['username','level','rating','prestige','games_won','qps_elims','qps_dmg_done',\n",
    "           'qps_deaths','qps_solo_kills','medals_bronze','medals_silver','medals_gold']\n",
    "\n",
    "for hero in hero_list:\n",
    "    hero_data = [f'{hero}_elims',f'{hero}_dmg_done',f'{hero}_deaths',f'{hero}_solo_kills']\n",
    "    columns.extend(hero_data)\n",
    "\n",
    "data = pd.DataFrame(columns=columns)\n",
    "\n",
    "amount = 0\n",
    "for user in usernames['users'].values:\n",
    "    url = f\"https://ow-api.com/v1/stats/pc/us/{user}/complete\"\n",
    "    print(url)\n",
    "    response = requests.get(url)\n",
    "    j = json.loads(response.text)\n",
    "    u = create_player(j)\n",
    "    data.loc[len(data), :] = df_object(u)\n",
    "    amount += 1\n",
    "    \n",
    "    percent = np.round((amount/len(usernames['users'])),decimals=2)\n",
    "    clear_output()\n",
    "    progress = widgets.IntProgress(\n",
    "        value=amount,\n",
    "        min=0,\n",
    "        max=len(usernames['users'].values),\n",
    "        step=1,\n",
    "        description=f'{percent}%',\n",
    "        bar_style='info', # 'success', 'info', 'warning', 'danger' or ''\n",
    "        orientation='horizontal'\n",
    "    )\n",
    "    display(progress)"
   ]
  },
  {
   "cell_type": "code",
   "execution_count": 14,
   "metadata": {},
   "outputs": [
    {
     "name": "stdout",
     "output_type": "stream",
     "text": [
      "(8, 136)\n"
     ]
    }
   ],
   "source": [
    "data.head()\n",
    "data.tail()\n",
    "\n",
    "df = pd.read_csv('user_info.csv')\n",
    "print(df.shape)\n",
    "df = df.append(data)\n",
    "df.shape, data.shape\n",
    "\n",
    "data.to_csv('user_info.csv',index=False)"
   ]
  },
  {
   "cell_type": "code",
   "execution_count": null,
   "metadata": {},
   "outputs": [],
   "source": [
    "# def s(username):\n",
    "#     global search\n",
    "#     search = username\n",
    "    \n",
    "# interactive(s, username='')"
   ]
  },
  {
   "cell_type": "code",
   "execution_count": null,
   "metadata": {},
   "outputs": [],
   "source": [
    "# usernames = pd.read_csv('usernames_scraped_fixed.csv')\n",
    "# usernames.head()\n",
    "\n",
    "# df = pd.read_csv('usernames_scraped.csv')"
   ]
  },
  {
   "cell_type": "code",
   "execution_count": null,
   "metadata": {},
   "outputs": [],
   "source": [
    "# username_scraped = []\n",
    "\n",
    "# def str2bool(v):\n",
    "#     return v.lower() in (\"True\", \"true\")\n",
    "\n",
    "# for name in df['users']:\n",
    "#     driver.get(f\"https://playoverwatch.com/en-us/search?q={name}\")\n",
    "#     time.sleep(2)\n",
    "#     page_source = driver.page_source\n",
    "    \n",
    "#     soup = BeautifulSoup(page_source)\n",
    "#     players = soup.find_all('a', class_=\"player-badge\")\n",
    "    \n",
    "#     for element in players:\n",
    "#         locked = str2bool(element.find(\"div\", {\"data-visibility-private\": True})['data-visibility-private'])\n",
    "#         if(locked == False):\n",
    "#             username_scraped.append(element.find(class_='player-badge-name').text.replace('#', '-'))\n",
    "            \n",
    "# print(len(username_scraped))"
   ]
  },
  {
   "cell_type": "code",
   "execution_count": null,
   "metadata": {},
   "outputs": [],
   "source": [
    "# print(len(username_scraped))\n",
    "\n",
    "# df1 = pd.read_csv('usernames_scraped_fixed.csv')\n",
    "\n",
    "# df2 = pd.DataFrame(username_scraped,columns=['users'])\n",
    "\n",
    "# df1 = df1.append(df2)\n",
    "\n",
    "# df1.to_csv('usernames_scraped_fixed.csv',index=False)\n",
    "\n",
    "# df1.shape"
   ]
  },
  {
   "cell_type": "code",
   "execution_count": null,
   "metadata": {},
   "outputs": [],
   "source": [
    "# usernames['users'].values"
   ]
  },
  {
   "cell_type": "code",
   "execution_count": null,
   "metadata": {},
   "outputs": [],
   "source": [
    "# def on_change(b):\n",
    "#     global player\n",
    "#     player = name=dropbox.value\n",
    "#     print('player')\n",
    "\n",
    "# dropbox = widgets.Select(\n",
    "#     options=usernames['users'].values,\n",
    "#     value=usernames['users'].values[0],\n",
    "#     description='User:',\n",
    "#     disabled=False\n",
    "# )\n",
    "# dropbox.observe(on_change, names='value')\n",
    "        \n",
    "# display(dropbox)"
   ]
  },
  {
   "cell_type": "code",
   "execution_count": null,
   "metadata": {},
   "outputs": [],
   "source": [
    "# player"
   ]
  },
  {
   "cell_type": "code",
   "execution_count": null,
   "metadata": {},
   "outputs": [],
   "source": [
    "# soup = BeautifulSoup(page_source)\n",
    "\n",
    "# players = soup.find_all('a', class_=\"player-badge\")\n",
    "         \n",
    "# def f(name):\n",
    "#     return name\n",
    "\n",
    "# def on_button_clicked(b):\n",
    "#         global player\n",
    "#         player = name=b.description\n",
    "\n",
    "# displays = []\n",
    "# for element in players:\n",
    "#     locked = str2bool(element.find(\"div\", {\"data-visibility-private\": True})['data-visibility-private'])\n",
    "#     if(locked == True):\n",
    "#         tooltip = 'Sorry, player has their profile set to private...'\n",
    "#         icon = 'lock'\n",
    "#     else:\n",
    "#         tooltip = \"Click to view this player\"\n",
    "#         icon = 'unlock'\n",
    "#     button = widgets.Button(\n",
    "#         description=element.find(class_='player-badge-name').text.capitalize().replace('#', '-'),\n",
    "#         disabled=locked,\n",
    "#         button_style='', # 'success', 'info', 'warning', 'danger' or ''\n",
    "#         icon=icon,\n",
    "#         tooltip=tooltip\n",
    "#     )\n",
    "#     out = widgets.Output()\n",
    "        \n",
    "#     button.on_click(on_button_clicked)\n",
    "#     display(button,out)"
   ]
  },
  {
   "cell_type": "code",
   "execution_count": null,
   "metadata": {},
   "outputs": [],
   "source": [
    "# url = f\"https://ow-api.com/v1/stats/pc/us/{player}/complete\"\n",
    "# print(url)\n",
    "# response = requests.get(url)\n",
    "\n",
    "# print(response)"
   ]
  },
  {
   "cell_type": "code",
   "execution_count": null,
   "metadata": {},
   "outputs": [],
   "source": [
    "# j = json.loads(response.text)\n",
    "# if(j['private'] == True):\n",
    "#     print(\"Sorry can't load this profile. it's private\")\n",
    "# else:\n",
    "#     print(j['name'])"
   ]
  }
 ],
 "metadata": {
  "kernelspec": {
   "display_name": "Python 3",
   "language": "python",
   "name": "python3"
  },
  "language_info": {
   "codemirror_mode": {
    "name": "ipython",
    "version": 3
   },
   "file_extension": ".py",
   "mimetype": "text/x-python",
   "name": "python",
   "nbconvert_exporter": "python",
   "pygments_lexer": "ipython3",
   "version": "3.7.3"
  }
 },
 "nbformat": 4,
 "nbformat_minor": 4
}
